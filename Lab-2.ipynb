{
 "cells": [
  {
   "cell_type": "markdown",
   "metadata": {},
   "source": [
    "Adding User Accounts"
   ]
  },
  {
   "cell_type": "code",
   "execution_count": 15,
   "metadata": {},
   "outputs": [
    {
     "name": "stdout",
     "output_type": "stream",
     "text": [
      "['Fbutler44035501', 'Fbutler06888251', 'Cmosley29506226', 'Dbeltran58789277', 'Sramirez27077471', 'Afulton24948545', 'Dcastro02407940', 'Cmorrison06129233', 'Ahaney57251297', 'Ofowler47031700', 'Ebauer40281958', 'Iburnett49002620', 'Avelazquez94881765', 'Fdonovan20084226', 'Hcrawford07896496', 'Aobrien71094070', 'Modling94326483', 'Rstevenson71616437', 'Rbonner05090501', 'Ehicks56461222', 'Abean86287450', 'Wgardner66041180', 'Cstokes56459127', 'Sharrison47390115', 'Gmason75376099', 'Hvance47309444', 'Tvilla19209763', 'Jdean19390578', 'Xvaughn37985267', 'Epace63538081', 'Tduran75973268', 'Lfields13405879', 'Ahamilton75931025', 'Cward95323509', 'Pvelez49341207', 'Achen49317912', 'Rsears45339556', 'Cbullock79560341', 'Lmorgan91520925', 'Jgarner44371273', 'Ahines45908003', 'Agill10607751', 'Jwatkins89886953', 'Nmccall82922849', 'Jnorris59425561', 'Oroach09428327', 'Dcallahan43081856', 'Ameyer30306115', 'Mnoble27057604', 'Bfitzpatrick89688926', 'Hclayton50664596']\n"
     ]
    }
   ],
   "source": [
    "import random\n",
    "import re\n",
    "usernamesrpt = {}\n",
    "usernames = []\n",
    "passwords = []\n",
    "\n",
    "with open(\"emails.txt\", \"r\") as file:\n",
    "\tlines = file.readlines()\n",
    "\t\n",
    "for line in lines:\n",
    "\tnamedept = re.search(r\"^(.+)_(.+)@(.+).(yahoo.com)\", line)\n",
    "\tif namedept:\n",
    "\t\tif namedept.group(1)[0].upper() + \"\" + namedept.group(2) in usernamesrpt:\n",
    "\t\t\tusernamesrpt[namedept.group(1)[0].upper() + \"\" + namedept.group(2)] += 1\n",
    "\t\t\trpt = namedept.group(1)[0].upper() + \"\" + namedept.group(2)\n",
    "\t\t\trpt = str(rpt)\n",
    "\t\t\trptval = str(usernamesrpt.get(rpt))\n",
    "\t\t\tusernames += [namedept.group(1)[0].upper() + \"\" + namedept.group(2) + rptval + \"-\" + namedept.group(3)]\n",
    "\t\t\tpsw = (\"\")\n",
    "\t\t\tfor i in range(8):\n",
    "\t\t\t\tpsw += str(random.randint(0,9))\n",
    "\t\t\tpasswords += [namedept.group(1)[0].upper() + \"\" + namedept.group(2) + \"\" + psw]\n",
    "\t\telse:\n",
    "\t\t\tusernamesrpt[namedept.group(1)[0].upper() + \"\" + namedept.group(2)] = 0\n",
    "\t\t\tusernames += [namedept.group(1)[0].upper() + \"\" + namedept.group(2) + \"-\" + namedept.group(3)]\n",
    "\t\t\tpsw = (\"\")\n",
    "\t\t\tfor i in range(8):\n",
    "\t\t\t\tpsw += str(random.randint(0,9))\n",
    "\t\t\tpasswords += [namedept.group(1)[0].upper() + \"\" + namedept.group(2) + \"\" + psw]\n",
    "\n",
    "\t\t\n",
    "\t\t\n"
   ]
  }
 ],
 "metadata": {
  "kernelspec": {
   "display_name": "Python 3",
   "language": "python",
   "name": "python3"
  },
  "language_info": {
   "codemirror_mode": {
    "name": "ipython",
    "version": 3
   },
   "file_extension": ".py",
   "mimetype": "text/x-python",
   "name": "python",
   "nbconvert_exporter": "python",
   "pygments_lexer": "ipython3",
   "version": "3.10.12"
  }
 },
 "nbformat": 4,
 "nbformat_minor": 2
}
